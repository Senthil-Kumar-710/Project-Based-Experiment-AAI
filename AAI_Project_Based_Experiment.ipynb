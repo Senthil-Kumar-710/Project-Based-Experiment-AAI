{
  "nbformat": 4,
  "nbformat_minor": 0,
  "metadata": {
    "colab": {
      "provenance": []
    },
    "kernelspec": {
      "name": "python3",
      "display_name": "Python 3"
    },
    "language_info": {
      "name": "python"
    }
  },
  "cells": [
    {
      "cell_type": "code",
      "execution_count": 5,
      "metadata": {
        "colab": {
          "base_uri": "https://localhost:8080/"
        },
        "id": "mooFvoHW7G3n",
        "outputId": "f0553cfb-9a00-4d3b-8405-a87f5cfa27df"
      },
      "outputs": [
        {
          "output_type": "stream",
          "name": "stdout",
          "text": [
            "Requirement already satisfied: pandas in /usr/local/lib/python3.10/dist-packages (2.0.3)\n",
            "Requirement already satisfied: textblob in /usr/local/lib/python3.10/dist-packages (0.17.1)\n",
            "Requirement already satisfied: python-dateutil>=2.8.2 in /usr/local/lib/python3.10/dist-packages (from pandas) (2.8.2)\n",
            "Requirement already satisfied: pytz>=2020.1 in /usr/local/lib/python3.10/dist-packages (from pandas) (2023.4)\n",
            "Requirement already satisfied: tzdata>=2022.1 in /usr/local/lib/python3.10/dist-packages (from pandas) (2024.1)\n",
            "Requirement already satisfied: numpy>=1.21.0 in /usr/local/lib/python3.10/dist-packages (from pandas) (1.25.2)\n",
            "Requirement already satisfied: nltk>=3.1 in /usr/local/lib/python3.10/dist-packages (from textblob) (3.8.1)\n",
            "Requirement already satisfied: click in /usr/local/lib/python3.10/dist-packages (from nltk>=3.1->textblob) (8.1.7)\n",
            "Requirement already satisfied: joblib in /usr/local/lib/python3.10/dist-packages (from nltk>=3.1->textblob) (1.4.2)\n",
            "Requirement already satisfied: regex>=2021.8.3 in /usr/local/lib/python3.10/dist-packages (from nltk>=3.1->textblob) (2023.12.25)\n",
            "Requirement already satisfied: tqdm in /usr/local/lib/python3.10/dist-packages (from nltk>=3.1->textblob) (4.66.4)\n",
            "Requirement already satisfied: six>=1.5 in /usr/local/lib/python3.10/dist-packages (from python-dateutil>=2.8.2->pandas) (1.16.0)\n"
          ]
        }
      ],
      "source": [
        "!pip install pandas textblob"
      ]
    },
    {
      "cell_type": "code",
      "source": [
        "import pandas as pd\n",
        "from textblob import TextBlob"
      ],
      "metadata": {
        "id": "Xs8bwbCF7KKs"
      },
      "execution_count": 6,
      "outputs": []
    },
    {
      "cell_type": "code",
      "source": [
        "# Load the CSV file into a DataFrame\n",
        "df = pd.read_csv('fb_sentiment.csv')"
      ],
      "metadata": {
        "id": "JCccbgR17RFC"
      },
      "execution_count": 7,
      "outputs": []
    },
    {
      "cell_type": "code",
      "source": [
        "# Function to perform sentiment analysis using TextBlob\n",
        "def analyze_sentiment(text):\n",
        "    blob = TextBlob(str(text))\n",
        "    return blob.sentiment.polarity"
      ],
      "metadata": {
        "id": "pSXGa_fT86B0"
      },
      "execution_count": 8,
      "outputs": []
    },
    {
      "cell_type": "code",
      "source": [
        "# Apply sentiment analysis to each row in the DataFrame\n",
        "df['Sentiment'] = df['FBPost'].apply(analyze_sentiment)"
      ],
      "metadata": {
        "id": "hWVQaH-m9M6o"
      },
      "execution_count": 9,
      "outputs": []
    },
    {
      "cell_type": "code",
      "source": [
        "# Output the DataFrame with sentiment analysis results\n",
        "print(df.head())"
      ],
      "metadata": {
        "colab": {
          "base_uri": "https://localhost:8080/"
        },
        "id": "-S581BqH9OTA",
        "outputId": "3ca88225-af03-4de6-c352-aeb2057a6258"
      },
      "execution_count": 10,
      "outputs": [
        {
          "output_type": "stream",
          "name": "stdout",
          "text": [
            "   Unnamed: 0                                             FBPost Label  \\\n",
            "0           0  Drug Runners and  a U.S. Senator have somethin...     O   \n",
            "1           1  Heres a single, to add, to Kindle. Just read t...     O   \n",
            "2           2  If you tire of Non-Fiction.. Check out http://...     O   \n",
            "3           3    Ghost of Round Island is supposedly nonfiction.     O   \n",
            "4           4  Why is Barnes and Nobles version of the Kindle...     N   \n",
            "\n",
            "   Sentiment  \n",
            "0   0.000000  \n",
            "1  -0.135714  \n",
            "2   0.000000  \n",
            "3  -0.200000  \n",
            "4   0.000000  \n"
          ]
        }
      ]
    },
    {
      "cell_type": "code",
      "source": [
        "# Filter out rows with positive sentiment (label 'P')\n",
        "positive_feedback = df[df['Label'] == 'P']"
      ],
      "metadata": {
        "id": "lqOqR2tb9Pvy"
      },
      "execution_count": 11,
      "outputs": []
    },
    {
      "cell_type": "code",
      "source": [
        "# Output the negative feedback\n",
        "print(positive_feedback)"
      ],
      "metadata": {
        "colab": {
          "base_uri": "https://localhost:8080/"
        },
        "id": "7XtwiDrC9Q_s",
        "outputId": "ac0688ec-ef3a-483c-9704-2c022e3e9b6f"
      },
      "execution_count": 12,
      "outputs": [
        {
          "output_type": "stream",
          "name": "stdout",
          "text": [
            "     Unnamed: 0                                             FBPost Label  \\\n",
            "5             5  @Maria:  Do you mean the Nook?  Be careful, bo...     P   \n",
            "6             6                     kindle is awesome! mines great     P   \n",
            "7             7                                    I love mine!!!!     P   \n",
            "9             9                           My daugjhter loves hers!     P   \n",
            "11           11  Got a Kindle for Xmas and I love it.   Never w...     P   \n",
            "..          ...                                                ...   ...   \n",
            "994         994  SOOOO much better than your other commercials!...     P   \n",
            "995         995  I liked it.  Its youth oriented and I think th...     P   \n",
            "996         996  I think the point of the commercial is that, e...     P   \n",
            "997         997  Kindle 3 is such a great product. I could not ...     P   \n",
            "999         999                               I love my kindle! =)     P   \n",
            "\n",
            "     Sentiment  \n",
            "5     0.031250  \n",
            "6     0.900000  \n",
            "7     1.000000  \n",
            "9     0.000000  \n",
            "11    0.358333  \n",
            "..         ...  \n",
            "994   0.152344  \n",
            "995   0.300000  \n",
            "996   0.300000  \n",
            "997   0.500000  \n",
            "999   0.562500  \n",
            "\n",
            "[641 rows x 4 columns]\n"
          ]
        }
      ]
    },
    {
      "cell_type": "code",
      "source": [],
      "metadata": {
        "id": "SCAWigpW9TQS"
      },
      "execution_count": 12,
      "outputs": []
    }
  ]
}